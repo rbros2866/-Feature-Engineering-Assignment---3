{
 "cells": [
  {
   "cell_type": "markdown",
   "metadata": {},
   "source": [
    "**Q1.** What is data encoding? How is it useful in data science?"
   ]
  },
  {
   "cell_type": "markdown",
   "metadata": {},
   "source": [
    "**Categorical Data Handling:**\n",
    "\n",
    "Enables representation of categorical variables (e.g., gender, city, type) in a format understandable by machine learning algorithms.\n",
    "\n",
    "**Algorithm Compatibility:**\n",
    "\n",
    "Transforms non-numeric data into numerical representations suitable for processing by machine learning models.\n",
    "\n",
    "**Bias Prevention:**\n",
    "\n",
    "Proper encoding techniques prevent biases arising from arbitrary numerical labeling of categorical data.\n",
    "\n",
    "**Enhanced Model Performance:**\n",
    "\n",
    "Properly encoded data aids machine learning models in better understanding underlying patterns, leading to improved performance.\n",
    "\n",
    "**Text Data Processing (NLP):**\n",
    "\n",
    "Converts textual data into numerical representations (like TF-IDF, word embeddings) for analysis and understanding in Natural Language Processing tasks.\n",
    "\n",
    "**Dimensionality Reduction:**\n",
    "\n",
    "While some techniques increase dimensionality (like one-hot encoding), they retain categorical information crucial for analysis without assuming ordinal relationships.\n",
    "\n",
    "**Data Consistency:**\n",
    "\n",
    "Standardizes the representation of categorical information across platforms or systems, ensuring consistency in data interpretation and analysis."
   ]
  },
  {
   "cell_type": "markdown",
   "metadata": {},
   "source": [
    "**Q2.** What is nominal encoding? Provide an example of how you would use it in a real-world scenario."
   ]
  },
  {
   "cell_type": "markdown",
   "metadata": {},
   "source": [
    "**Nominal Encoding (Label Encoding):**\n",
    "\n",
    "Assigns unique numeric labels to categorical variables without any inherent order or hierarchy among categories.\n",
    "\n",
    "Used when there's no ordinal relationship between categories.\n",
    "\n",
    "**Real-World Scenario - Clothing Preferences:**\n",
    "\n",
    "Dataset Example:\n",
    "\n",
    "Consider a dataset containing 'Color' preferences in clothing choices.\n",
    "\n",
    "Original Data:\n",
    "\n",
    "The 'Color' column includes categories like 'Red', 'Blue', 'Green', 'Yellow', etc.\n",
    "\n",
    "**Nominal Encoding Application:**\n",
    "\n",
    "Conversion Process:\n",
    "\n",
    "Nominal encoding assigns numeric labels to each unique color category.\n",
    "\n",
    "For instance: 0 for 'Red', 1 for 'Blue', 2 for 'Green', 3 for 'Yellow', and so on.\n",
    "\n",
    "**Encoded Data Usage:**\n",
    "\n",
    "Utilizing Encoded Data:\n",
    "\n",
    "The encoded 'Color' feature becomes a numerical representation of color preferences.\n",
    "\n",
    "Machine learning algorithms can process and analyze this feature to derive insights or make predictions.\n",
    "\n",
    "**Machine Learning Application:**\n",
    "\n",
    "Predictive Models:\n",
    "\n",
    "These encoded features can be used in models predicting customer preferences, clustering similar choices, or understanding color-related patterns in shopping behavior."
   ]
  },
  {
   "cell_type": "markdown",
   "metadata": {},
   "source": [
    "**Q3.** In what situations is nominal encoding preferred over one-hot encoding? Provide a practical example."
   ]
  },
  {
   "cell_type": "markdown",
   "metadata": {},
   "source": [
    "Nominal encoding and one-hot encoding are both techniques used to represent categorical data numerically. Nominal encoding assigns unique integers to categories, while one-hot encoding creates binary columns for each category. Nominal encoding might be preferred over one-hot encoding in certain scenarios:"
   ]
  },
  {
   "cell_type": "markdown",
   "metadata": {},
   "source": [
    "**Lower Dimensionality:**\n",
    "\n",
    "Nominal encoding results in fewer dimensions compared to one-hot encoding, especially with high cardinality categorical variables.\n",
    "\n",
    "**Dimensionality Management:**\n",
    "\n",
    "When dealing with numerous categories within a feature, nominal encoding helps prevent an explosion in the number of features that occurs with one-hot encoding.\n",
    "\n",
    "**Limited Data and Overfitting:**\n",
    "\n",
    "In datasets with limited samples, one-hot encoding might lead to overfitting due to increased dimensions, while nominal encoding could help mitigate this issue.\n",
    "\n",
    "**Enhanced Interpretability:**\n",
    "\n",
    "For certain models or analysis, maintaining the original feature's interpretability might be crucial. Nominal encoding preserves the original feature, aiding interpretability."
   ]
  },
  {
   "cell_type": "markdown",
   "metadata": {},
   "source": [
    "In scenarios with many brands (20+), nominal encoding is preferred as it avoids excessive dimensionality introduced by one-hot encoding while retaining the original feature's simplicity.\n",
    "\n",
    "Nominal encoding offers advantages in terms of dimensionality reduction and interpretability, making it a suitable choice in scenarios where maintaining the original feature's simplicity is essential."
   ]
  },
  {
   "cell_type": "markdown",
   "metadata": {},
   "source": [
    "**Q4.** Suppose you have a dataset containing categorical data with 5 unique values. Which encoding\n",
    "technique would you use to transform this data into a format suitable for machine learning algorithms?\n",
    "Explain why you made this choice."
   ]
  },
  {
   "cell_type": "markdown",
   "metadata": {},
   "source": [
    "Given a dataset with 5 unique categorical values, I would opt for **One-Hot Encoding.** Here's the rationale behind this choice:\n",
    "\n",
    "**Reasoning for Choosing One-Hot Encoding:**\n",
    "\n",
    "**Preservation of Distinct Representation:**\n",
    "\n",
    "One-hot encoding creates a separate binary column for each unique value, ensuring each category has its distinct representation.\n",
    "\n",
    "In a dataset with 5 unique values, this method preserves the individuality of each category without assuming any ordinal relationship among them.\n",
    "\n",
    "**No Implicit Ordinality:**\n",
    "\n",
    "One-hot encoding does not imply any ordinality or hierarchy among the categorical values.\n",
    "\n",
    "It ensures that the machine learning algorithm treats each category as equally important and independent, suitable when there's no inherent order among the values.\n",
    "\n",
    "**Enhanced Model Interpretability:**\n",
    "\n",
    "While one-hot encoding might slightly increase dimensionality, it maintains a clear and interpretable representation of categorical values.\n",
    "\n",
    "The resulting columns explicitly indicate the presence or absence of each category, aiding model interpretation.\n",
    "\n",
    "**Machine Learning Algorithm Compatibility:**\n",
    "\n",
    "Many machine learning algorithms, especially tree-based methods and neural networks, handle one-hot encoded features effectively.\n",
    "\n",
    "It allows these models to learn from and make decisions based on the distinct representation of each category.\n",
    "\n",
    "**Small Number of Unique Values:**\n",
    "\n",
    "With only 5 unique values, the increase in dimensionality due to one-hot encoding remains manageable and doesn't introduce excessive complexity.\n",
    "\n",
    "**Conclusion:**\n",
    "\n",
    "Given the absence of ordinality among the 5 unique categorical values, One-Hot Encoding is chosen to provide a clear and distinct representation of each category, ensuring compatibility with various machine learning algorithms while maintaining model interpretability."
   ]
  },
  {
   "cell_type": "markdown",
   "metadata": {},
   "source": [
    "**Q5.** In a machine learning project, you have a dataset with 1000 rows and 5 columns. Two of the columns\n",
    "are categorical, and the remaining three columns are numerical. If you were to use nominal encoding to\n",
    "transform the categorical data, how many new columns would be created? Show your calculations."
   ]
  },
  {
   "cell_type": "markdown",
   "metadata": {},
   "source": [
    "**Given Information:**\n",
    "\n",
    "Dataset with 1000 rows and 5 columns.\n",
    "\n",
    "2 categorical columns (Column 1 and Column 2) & 3 numerical columns (Column 3, Column 4, Column 5).\n",
    "\n",
    "**Assumed Unique Values:**\n",
    "\n",
    "Column 1 has 4 unique values.\n",
    "\n",
    "Column 2 has 5 unique values.\n",
    "\n",
    "**Nominal Encoding Calculation:**\n",
    "\n",
    "Column 1 with 4 unique values would create 4 new columns.\n",
    "\n",
    "Column 2 with 5 unique values would create 5 new columns.\n",
    "\n",
    "**Total New Columns from Encoding:**\n",
    "\n",
    "Column 1: 4 new columns.\n",
    "\n",
    "Column 2: 5 new columns.\n",
    "\n",
    "**Total New Columns Created:**\n",
    "\n",
    "4 new columns (from Column 1) + 5 new columns (from Column 2) = 9 new columns."
   ]
  },
  {
   "cell_type": "markdown",
   "metadata": {},
   "source": [
    "**Q6.** You are working with a dataset containing information about different types of animals, including their\n",
    "species, habitat, and diet. Which encoding technique would you use to transform the categorical data into\n",
    "a format suitable for machine learning algorithms? Justify your answer."
   ]
  },
  {
   "cell_type": "markdown",
   "metadata": {},
   "source": [
    "**One-Hot Encoding for all Categorical Columns (Species, Habitat, and Diet):**\n",
    "\n",
    "**Reasoning:**\n",
    "\n",
    "**Distinct Representation:**\n",
    "\n",
    "One-hot encoding creates separate binary columns for each unique category in the dataset, ensuring a distinct representation for each category without implying any ordinality or hierarchy.\n",
    "\n",
    "**Machine Learning Compatibility:**\n",
    "\n",
    "One-hot encoding is compatible with various machine learning algorithms, allowing them to interpret categorical data effectively.\n",
    "\n",
    "**Handling Nominal Data:**\n",
    "\n",
    "One-hot encoding is particularly suitable for nominal data where categories lack any inherent order or hierarchy.\n",
    "\n",
    "**Independent Representation:**\n",
    "\n",
    "Maintains independence between different species, habitats, and diet types, allowing the model to treat each category uniquely.\n",
    "\n",
    "**Conclusion:**\n",
    "\n",
    "One-hot encoding would adequately transform all categorical columns (Species, Habitat, and Diet) into a suitable format for machine learning algorithms. It ensures clear and independent representation for each category without imposing any ordinal relationship, aligning well with the diverse nature of categorical information present in the animal dataset."
   ]
  },
  {
   "cell_type": "markdown",
   "metadata": {},
   "source": [
    "**Q7.**You are working on a project that involves predicting customer churn for a telecommunications\n",
    "company. You have a dataset with 5 features, including the customer's gender, age, contract type,\n",
    "monthly charges, and tenure. Which encoding technique(s) would you use to transform the categorical\n",
    "data into numerical data? Provide a step-by-step explanation of how you would implement the encoding."
   ]
  },
  {
   "cell_type": "markdown",
   "metadata": {},
   "source": [
    "**Identify Categorical Features:**\n",
    "\n",
    "Gender and Contract Type are the categorical features requiring encoding.\n",
    "\n",
    "**Encoding Techniques:**\n",
    "\n",
    "Label Encoding for Gender (Binary):\n",
    "\n",
    "Assigns numeric labels (0 and 1) to the two gender categories.\n",
    "\n",
    "One-Hot Encoding for Contract Type:\n",
    "\n",
    "Creates separate binary columns for each contract type category."
   ]
  },
  {
   "cell_type": "code",
   "execution_count": 9,
   "metadata": {},
   "outputs": [
    {
     "name": "stdout",
     "output_type": "stream",
     "text": [
      "   age  monthly_charges  tenure  gender_encoded  contract_type_Month-to-month  \\\n",
      "0   25               50       6               1                           1.0   \n",
      "1   30               60      12               0                           0.0   \n",
      "2   35               70      24               1                           1.0   \n",
      "3   40               80      36               0                           0.0   \n",
      "4   45               90      48               1                           0.0   \n",
      "\n",
      "   contract_type_One year  contract_type_Two year  \n",
      "0                     0.0                     0.0  \n",
      "1                     1.0                     0.0  \n",
      "2                     0.0                     0.0  \n",
      "3                     0.0                     1.0  \n",
      "4                     1.0                     0.0  \n"
     ]
    },
    {
     "name": "stderr",
     "output_type": "stream",
     "text": [
      "c:\\Users\\rbrot\\AppData\\Local\\Programs\\Python\\Python311\\Lib\\site-packages\\sklearn\\preprocessing\\_encoders.py:975: FutureWarning: `sparse` was renamed to `sparse_output` in version 1.2 and will be removed in 1.4. `sparse_output` is ignored unless you leave `sparse` to its default value.\n",
      "  warnings.warn(\n"
     ]
    }
   ],
   "source": [
    "import pandas as pd\n",
    "from sklearn.preprocessing import LabelEncoder, OneHotEncoder\n",
    "\n",
    "# Sample dataset\n",
    "data = pd.DataFrame({\n",
    "    'gender': ['Male', 'Female', 'Male', 'Female', 'Male'],\n",
    "    'age': [25, 30, 35, 40, 45],\n",
    "    'contract_type': ['Month-to-month', 'One year', 'Month-to-month', 'Two year', 'One year'],\n",
    "    'monthly_charges': [50, 60, 70, 80, 90],\n",
    "    'tenure': [6, 12, 24, 36, 48]\n",
    "})\n",
    "\n",
    "# Label Encoding for Gender\n",
    "label_encoder = LabelEncoder()\n",
    "data['gender_encoded'] = label_encoder.fit_transform(data['gender'])\n",
    "\n",
    "# One-Hot Encoding for Contract Type\n",
    "onehot_encoder = OneHotEncoder(sparse=False)\n",
    "contract_type_encoded = onehot_encoder.fit_transform(data[['contract_type']])\n",
    "contract_type_encoded_df = pd.DataFrame(contract_type_encoded, columns=onehot_encoder.get_feature_names_out(['contract_type']))\n",
    "data = pd.concat([data, contract_type_encoded_df], axis=1)\n",
    "\n",
    "# Dropping original categorical columns after encoding\n",
    "data.drop(['gender', 'contract_type'], axis=1, inplace=True)\n",
    "\n",
    "print(data)\n"
   ]
  },
  {
   "cell_type": "markdown",
   "metadata": {},
   "source": []
  }
 ],
 "metadata": {
  "kernelspec": {
   "display_name": "Python 3",
   "language": "python",
   "name": "python3"
  },
  "language_info": {
   "codemirror_mode": {
    "name": "ipython",
    "version": 3
   },
   "file_extension": ".py",
   "mimetype": "text/x-python",
   "name": "python",
   "nbconvert_exporter": "python",
   "pygments_lexer": "ipython3",
   "version": "3.11.1"
  }
 },
 "nbformat": 4,
 "nbformat_minor": 2
}
